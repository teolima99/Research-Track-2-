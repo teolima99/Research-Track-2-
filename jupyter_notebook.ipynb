{
 "cells": [
  {
   "cell_type": "code",
   "execution_count": null,
   "id": "129bfd7f",
   "metadata": {
    "ExecuteTime": {
     "end_time": "2023-06-08T23:24:48.923264Z",
     "start_time": "2023-06-08T23:24:48.015873Z"
    },
    "execution": {
     "iopub.execute_input": "2023-06-01T01:34:41.989816Z",
     "iopub.status.busy": "2023-06-01T01:34:41.989343Z",
     "iopub.status.idle": "2023-06-01T01:34:50.094314Z",
     "shell.execute_reply": "2023-06-01T01:34:50.092706Z",
     "shell.execute_reply.started": "2023-06-01T01:34:41.989764Z"
    },
    "tags": []
   },
   "outputs": [],
   "source": [
    "#!/usr/bin/env python\n",
    "\n",
    "import rospy\n",
    "import actionlib\n",
    "import actionlib.msg\n",
    "import assignment_2_2022.msg\n",
    "import sys, select, time, math\n",
    "import jupyros as jr\n",
    "import ipywidgets as widgets\n",
    "import matplotlib.pyplot as plt\n",
    "import numpy as np\n",
    "\n",
    "from std_srvs.srv import *\n",
    "from nav_msgs.msg import Odometry\n",
    "from geometry_msgs.msg import Point, Pose, Twist\n",
    "from sensor_msgs.msg import LaserScan\n",
    "from assignment_2_2022.msg import position_velocity\n",
    "from assignment_2_2022.srv import goals, goalsRequest, goalsResponse\n",
    "from ipywidgets import Button, Layout, ButtonStyle, GridBox, VBox, HBox\n",
    "from IPython.display import display\n",
    "from matplotlib.animation import FuncAnimation\n",
    "\n",
    "x_val, y_val = [], []\n",
    "X_goal_canceled, Y_goal_canceled = [], []\n",
    "\n",
    "%matplotlib widget\n",
    "\n",
    "goal = None\n",
    "Client = None\n",
    "Pub = None\n",
    "PosVel = position_velocity()\n",
    "Position = None\n",
    "last_time_pub_odom = 0\n",
    "last_time_pub_laser = 0"
   ]
  },
  {
   "cell_type": "code",
   "execution_count": null,
   "id": "0a0cc252",
   "metadata": {},
   "outputs": [],
   "source": [
    "def send_button_click(b): #Call 'action_client' function\n",
    "    global goal\n",
    "    global Client\n",
    "\n",
    "    goal = assignment_2_2022.msg.PlanningGoal() #Create the goal for the robot\n",
    "    goal.target_pose.pose.position.x = DestinationXwid.value\n",
    "    goal.target_pose.pose.position.y = DestinationYwid.value\n",
    "\n",
    "    Client.send_goal(goal) #Send goal to the server"
   ]
  },
  {
   "cell_type": "code",
   "execution_count": null,
   "id": "1411fec9",
   "metadata": {},
   "outputs": [],
   "source": [
    "def cancel_button_click(b): #Cancel the goal\n",
    "    global goal\n",
    "    global Client\n",
    "    global X_goal_canceled, Y_goal_canceled\n",
    "    \n",
    "    Client.cancel_goal()\n",
    "    X_goal_canceled.append(goal.target_pose.pose.position.x)\n",
    "    Y_goal_canceled.append(goal.target_pose.pose.position.y)\n",
    "    goal = None"
   ]
  },
  {
   "cell_type": "code",
   "execution_count": null,
   "id": "0f40b08c",
   "metadata": {},
   "outputs": [],
   "source": [
    "DestinationXwid = widgets.FloatText(description='Future X:')\n",
    "DestinationYwid = widgets.FloatText(description='Future Y:')\n",
    "\n",
    "cancel_goal_button = widgets.Button(description=\"Cancel goal\", style=ButtonStyle(button_color='Red'))\n",
    "\n",
    "cancel_goal_button.on_click(cancel_button_click)\n",
    "\n",
    "send_goal_button = widgets.Button(description = 'Send goal', style=ButtonStyle(button_color='GreenYellow'))\n",
    "\n",
    "send_goal_button.on_click(send_button_click)"
   ]
  },
  {
   "cell_type": "code",
   "execution_count": null,
   "id": "5087a77f-802c-478e-a5b0-db5df1654aab",
   "metadata": {
    "ExecuteTime": {
     "end_time": "2023-06-08T23:24:48.932939Z",
     "start_time": "2023-06-08T23:24:48.927193Z"
    },
    "execution": {
     "iopub.execute_input": "2023-06-01T01:34:50.099912Z",
     "iopub.status.busy": "2023-06-01T01:34:50.097717Z",
     "iopub.status.idle": "2023-06-01T01:34:50.132632Z",
     "shell.execute_reply": "2023-06-01T01:34:50.126142Z",
     "shell.execute_reply.started": "2023-06-01T01:34:50.099857Z"
    }
   },
   "outputs": [],
   "source": [
    "def PublishValues(msg):\n",
    "    global Pub\n",
    "    global PosVel\n",
    "    global last_time_pub_odom\n",
    "    global Position\n",
    "    global x_val, y_val\n",
    "    \n",
    "    Position = msg.pose.pose.position #Get the position\n",
    "    Velocity = msg.twist.twist.linear #Get the twist\n",
    "    \n",
    "    PosVel.CurrentX=Position.x\n",
    "    PosVel.CurrentY=Position.y\n",
    "    PosVel.VelX=Velocity.x\n",
    "    PosVel.VelY=Velocity.y\n",
    "    \n",
    "    x_val.append(Position.x)\n",
    "    y_val.append(Position.y)\n",
    "    \n",
    "    Pub.publish(PosVel) #Publish the custom message\n",
    "    \n",
    "    current_time = time.time() * 1000  #This part is necessary to see costantly the robot position every 100ms\n",
    "    if current_time - last_time_pub_odom > 500:\n",
    "        print(\"\\rRobot position: x={}, y={}\".format(PosVel.CurrentX, PosVel.CurrentY), end='')\n",
    "        last_time_pub_odom = current_time"
   ]
  },
  {
   "cell_type": "code",
   "execution_count": null,
   "id": "4c3debc2-9fda-4910-bf76-08e61a3a4455",
   "metadata": {
    "ExecuteTime": {
     "end_time": "2023-06-08T23:24:48.989658Z",
     "start_time": "2023-06-08T23:24:48.981844Z"
    },
    "execution": {
     "iopub.execute_input": "2023-06-01T01:34:50.460390Z",
     "iopub.status.busy": "2023-06-01T01:34:50.459822Z",
     "iopub.status.idle": "2023-06-01T01:34:50.499710Z",
     "shell.execute_reply": "2023-06-01T01:34:50.493552Z",
     "shell.execute_reply.started": "2023-06-01T01:34:50.460341Z"
    }
   },
   "outputs": [],
   "source": [
    "def callback_laser(msg):\n",
    "    global last_time_pub_laser\n",
    "    \n",
    "    #Only consider obstacles in a 180° field of view in front of the robot\n",
    "    index_start = len(msg.ranges) // 2 - (len(msg.ranges) // 4)\n",
    "    index_end = len(msg.ranges) // 2 + (len(msg.ranges) // 4)\n",
    "    ranges = msg.ranges[index_start:index_end]\n",
    "    min_distance = round(min(ranges),1)\n",
    "    \n",
    "    \n",
    "    current_time = time.time() * 1000 #Print the distance every 100 ms\n",
    "    if current_time - last_time_pub_laser > 100:\n",
    "        print(\"\\rDistance from the closest obstacle: {}\".format(min_distance), end='')\n",
    "        last_time_pub_laser = current_time"
   ]
  },
  {
   "cell_type": "code",
   "execution_count": null,
   "id": "f3bd6675-5d01-440f-8550-15a137747c06",
   "metadata": {
    "ExecuteTime": {
     "end_time": "2023-06-08T23:24:49.003269Z",
     "start_time": "2023-06-08T23:24:48.993066Z"
    },
    "execution": {
     "iopub.execute_input": "2023-06-01T01:34:50.506054Z",
     "iopub.status.busy": "2023-06-01T01:34:50.503456Z",
     "iopub.status.idle": "2023-06-01T01:34:50.588838Z",
     "shell.execute_reply": "2023-06-01T01:34:50.586277Z",
     "shell.execute_reply.started": "2023-06-01T01:34:50.505993Z"
    }
   },
   "outputs": [],
   "source": [
    "class PositionVisualizer: #Animation class used to plot the robot's position and goal's position\n",
    "    def __init__(self):\n",
    "        # Init function\n",
    "        self.fig, self.ax = plt.subplots()\n",
    "        # Settings for robot's position plot\n",
    "        self.ln, = plt.plot([], [], 'bo', label = 'Robot position')\n",
    "        # Settings for target's position plot\n",
    "        self.goal_ln, = plt.plot([], [], 'r*', markersize = 10, label = 'Goal position')\n",
    "        self.goal_canceled_ln, = plt.plot([], [], 'D', markersize = 10, label = 'Goals canceled')\n",
    "        \n",
    "        \n",
    "    \n",
    "    def plot_init(self):\n",
    "        # Set axis limits\n",
    "        self.ax.set_xlim(10, -10)\n",
    "        self.ax.set_ylim(10, -10)\n",
    "        # Set the grid\n",
    "        self.ax.grid(True, color = 'gainsboro')\n",
    "        # Set the title\n",
    "        self.ax.set_title('Robot position and goals')\n",
    "        # Set the legend\n",
    "        self.ax.legend(loc = 'upper right')\n",
    "        return self.ln, self.goal_ln, self.goal_canceled_ln\n",
    "    \n",
    "    \n",
    "    def update_plot(self, frame):\n",
    "        # Update data\n",
    "        global x_val, y_val\n",
    "        self.ln.set_data(x_val, y_val)\n",
    "        global goal\n",
    "        global X_goal_canceled, Y_goal_canceled\n",
    "\n",
    "        if goal is not None:\n",
    "            self.goal_ln.set_data(goal.target_pose.pose.position.x, goal.target_pose.pose.position.y)\n",
    "        else:\n",
    "            self.goal_ln.set_data([], [])\n",
    "            \n",
    "        if not X_goal_canceled:\n",
    "            self.goal_canceled_ln.set_data(X_goal_canceled, Y_goal_canceled)\n",
    "        else:\n",
    "            self.goal_canceled_ln.set_data([], [])\n",
    "            \n",
    "        return self.ln, self.goal_ln    "
   ]
  },
  {
   "cell_type": "code",
   "execution_count": null,
   "id": "5ab8f758",
   "metadata": {
    "ExecuteTime": {
     "end_time": "2023-06-08T23:24:49.123693Z",
     "start_time": "2023-06-08T23:24:49.007339Z"
    },
    "execution": {
     "iopub.execute_input": "2023-06-01T01:34:50.596664Z",
     "iopub.status.busy": "2023-06-01T01:34:50.595366Z",
     "iopub.status.idle": "2023-06-01T01:34:51.285651Z",
     "shell.execute_reply": "2023-06-01T01:34:51.283953Z",
     "shell.execute_reply.started": "2023-06-01T01:34:50.596608Z"
    },
    "tags": []
   },
   "outputs": [],
   "source": [
    "rospy.init_node('input')\n",
    "\n",
    "global Pub\n",
    "Pub=rospy.Publisher(\"/pos_vel\",position_velocity,queue_size=1) #Send a message with velocity and position\n",
    "\n",
    "global Client\n",
    "Client = actionlib.SimpleActionClient('/reaching_goal', assignment_2_2022.msg.PlanningAction) #Create the action client\n",
    "Client.wait_for_server()"
   ]
  },
  {
   "cell_type": "code",
   "execution_count": null,
   "id": "38c03e85-fcd3-4c41-8648-149025a13336",
   "metadata": {
    "ExecuteTime": {
     "end_time": "2023-06-08T23:24:49.163718Z",
     "start_time": "2023-06-08T23:24:49.132338Z"
    },
    "execution": {
     "iopub.execute_input": "2023-06-01T01:34:51.333514Z",
     "iopub.status.busy": "2023-06-01T01:34:51.321247Z",
     "iopub.status.idle": "2023-06-01T01:34:51.536680Z",
     "shell.execute_reply": "2023-06-01T01:34:51.521121Z",
     "shell.execute_reply.started": "2023-06-01T01:34:51.333380Z"
    }
   },
   "outputs": [],
   "source": [
    "jr.subscribe('/scan', LaserScan, callback_laser)"
   ]
  },
  {
   "cell_type": "code",
   "execution_count": null,
   "id": "fbbe5cc5-8b1d-4584-ba6b-797af1769d7a",
   "metadata": {
    "ExecuteTime": {
     "end_time": "2023-06-08T23:24:49.201140Z",
     "start_time": "2023-06-08T23:24:49.166954Z"
    },
    "execution": {
     "iopub.execute_input": "2023-06-01T01:34:51.558204Z",
     "iopub.status.busy": "2023-06-01T01:34:51.554372Z",
     "iopub.status.idle": "2023-06-01T01:34:51.633451Z",
     "shell.execute_reply": "2023-06-01T01:34:51.625548Z",
     "shell.execute_reply.started": "2023-06-01T01:34:51.557990Z"
    }
   },
   "outputs": [],
   "source": [
    "jr.subscribe(\"/odom\",Odometry,PublishValues)"
   ]
  },
  {
   "cell_type": "code",
   "execution_count": null,
   "id": "a5384469",
   "metadata": {
    "ExecuteTime": {
     "end_time": "2023-06-08T23:24:49.226225Z",
     "start_time": "2023-06-08T23:24:49.216080Z"
    },
    "execution": {
     "iopub.execute_input": "2023-06-01T01:34:51.651465Z",
     "iopub.status.busy": "2023-06-01T01:34:51.650401Z",
     "iopub.status.idle": "2023-06-01T01:34:51.731853Z",
     "shell.execute_reply": "2023-06-01T01:34:51.727017Z",
     "shell.execute_reply.started": "2023-06-01T01:34:51.651414Z"
    },
    "tags": []
   },
   "outputs": [],
   "source": [
    "display(widgets.HBox([DestinationXwid, DestinationYwid]))"
   ]
  },
  {
   "cell_type": "code",
   "execution_count": null,
   "id": "a4d98ee3-839d-434a-b157-5775d8b2a0e9",
   "metadata": {
    "ExecuteTime": {
     "end_time": "2023-06-08T23:24:49.239684Z",
     "start_time": "2023-06-08T23:24:49.228820Z"
    },
    "execution": {
     "iopub.execute_input": "2023-06-01T01:34:51.759878Z",
     "iopub.status.busy": "2023-06-01T01:34:51.758897Z",
     "iopub.status.idle": "2023-06-01T01:34:51.804495Z",
     "shell.execute_reply": "2023-06-01T01:34:51.803252Z",
     "shell.execute_reply.started": "2023-06-01T01:34:51.759823Z"
    },
    "tags": []
   },
   "outputs": [],
   "source": [
    "display(widgets.HBox([send_goal_button, cancel_goal_button]))"
   ]
  },
  {
   "cell_type": "code",
   "execution_count": null,
   "id": "c31bc311-9d39-48fe-a240-6c4e4af48e6d",
   "metadata": {
    "ExecuteTime": {
     "end_time": "2023-06-08T23:24:49.430163Z",
     "start_time": "2023-06-08T23:24:49.248345Z"
    },
    "execution": {
     "iopub.execute_input": "2023-06-01T01:34:51.815829Z",
     "iopub.status.busy": "2023-06-01T01:34:51.806819Z",
     "iopub.status.idle": "2023-06-01T01:34:52.723471Z",
     "shell.execute_reply": "2023-06-01T01:34:52.720838Z",
     "shell.execute_reply.started": "2023-06-01T01:34:51.815784Z"
    },
    "tags": []
   },
   "outputs": [],
   "source": [
    "# Create the visualizer object\n",
    "position_visualizer = PositionVisualizer()\n",
    "\n",
    "# Plot\n",
    "position_animation = FuncAnimation(\n",
    "    position_visualizer.fig,\n",
    "    position_visualizer.update_plot,\n",
    "    init_func = position_visualizer.plot_init,\n",
    "    cache_frame_data = False)\n",
    "plt.show(block = True)"
   ]
  },
  {
   "cell_type": "code",
   "execution_count": null,
   "id": "dca710fd",
   "metadata": {},
   "outputs": [],
   "source": []
  }
 ],
 "metadata": {
  "hide_input": false,
  "kernelspec": {
   "display_name": "Python 3 (ipykernel)",
   "language": "python",
   "name": "python3"
  },
  "language_info": {
   "codemirror_mode": {
    "name": "ipython",
    "version": 3
   },
   "file_extension": ".py",
   "mimetype": "text/x-python",
   "name": "python",
   "nbconvert_exporter": "python",
   "pygments_lexer": "ipython3",
   "version": "3.8.10"
  },
  "toc": {
   "base_numbering": 1,
   "nav_menu": {},
   "number_sections": true,
   "sideBar": true,
   "skip_h1_title": false,
   "title_cell": "Table of Contents",
   "title_sidebar": "Contents",
   "toc_cell": false,
   "toc_position": {},
   "toc_section_display": true,
   "toc_window_display": false
  },
  "varInspector": {
   "cols": {
    "lenName": 16,
    "lenType": 16,
    "lenVar": 40
   },
   "kernels_config": {
    "python": {
     "delete_cmd_postfix": "",
     "delete_cmd_prefix": "del ",
     "library": "var_list.py",
     "varRefreshCmd": "print(var_dic_list())"
    },
    "r": {
     "delete_cmd_postfix": ") ",
     "delete_cmd_prefix": "rm(",
     "library": "var_list.r",
     "varRefreshCmd": "cat(var_dic_list()) "
    }
   },
   "types_to_exclude": [
    "module",
    "function",
    "builtin_function_or_method",
    "instance",
    "_Feature"
   ],
   "window_display": false
  }
 },
 "nbformat": 4,
 "nbformat_minor": 5
}
